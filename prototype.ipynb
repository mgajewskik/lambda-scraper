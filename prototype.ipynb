{
 "cells": [
  {
   "cell_type": "code",
   "execution_count": 77,
   "id": "95289cf7-185d-4fc9-8329-7a7a2f6f439e",
   "metadata": {},
   "outputs": [],
   "source": [
    "from bs4 import BeautifulSoup\n",
    "import requests\n",
    "from selenium import webdriver\n",
    "import time"
   ]
  },
  {
   "cell_type": "code",
   "execution_count": 83,
   "id": "8be9e60c-efc9-494c-a61d-eb89446b5500",
   "metadata": {},
   "outputs": [],
   "source": [
    "URL = \"https://thepiratebay.org/search.php?q=top100:48h_207\"\n",
    "URL = \"https://allegro.pl/kategoria/laptopy-apple-77915?string=bargain_zone\""
   ]
  },
  {
   "cell_type": "code",
   "execution_count": 84,
   "id": "2d497740-1351-45cb-af4c-1e9442f270e9",
   "metadata": {
    "tags": []
   },
   "outputs": [],
   "source": [
    "options = webdriver.ChromeOptions()\n",
    "options.add_argument('--headless')\n",
    "driver = webdriver.Chrome(options=options)\n",
    "\n",
    "driver.get(URL)\n",
    "time.sleep(5)\n",
    "htmlSource = driver.page_source"
   ]
  },
  {
   "cell_type": "code",
   "execution_count": 85,
   "id": "48233c36-13b3-4adc-975f-f960dd7fe178",
   "metadata": {},
   "outputs": [
    {
     "data": {
      "text/plain": [
       "<html><head><title>allegro.pl</title><style>#cmsg{animation: A 1.5s;}@keyframes A{0%{opacity:0;}99%{opacity:0;}100%{opacity:1;}}</style><meta content=\"width=device-width, initial-scale=1.0\" name=\"viewport\"/></head><body style=\"margin:0\"><script>var dd={'cid':'AHrlqAAAAAMAC-Uq1mXx2AQA1Ya6dA==','hsh':'77DC0FFBAA0B77570F6B414F8E5BDB','t':'bv','s':29560,'e':'8eaa1ab1464dae06f4f02cb7eebfb55e725789573a557977831bb8e42156e1d0','host':'geo.captcha-delivery.com'}</script><script src=\"https://ct.captcha-delivery.com/c.js\"></script><script>if(\"string\"==typeof navigator.userAgent&&navigator.userAgent.indexOf(\"Firefox\")>-1){var isIframeLoaded=!1,maxTimeoutMs=5e3;function iframeOnload(e){isIframeLoaded=!0;var a=document.getElementById(\"noiframe\");a&&a.parentNode.removeChild(a)}var initialTime=(new Date).getTime();setTimeout(function(){isIframeLoaded||(new Date).getTime()-initialTime>maxTimeoutMs&&(document.body.innerHTML='<div id=\"noiframe\">Please enable JS and disable any ad blocker</div>'+document.body.innerHTML)},maxTimeoutMs)}else function iframeOnload(){}</script><iframe border=\"0\" frameborder=\"0\" height=\"100%\" onload=\"iframeOnload()\" scrolling=\"yes\" src=\"https://geo.captcha-delivery.com/captcha/?initialCid=AHrlqAAAAAMAC-Uq1mXx2AQA1Ya6dA%3D%3D&amp;hash=77DC0FFBAA0B77570F6B414F8E5BDB&amp;cid=53.~V59mW-JRxsyNUWEOiA-LAM8u4-n-M3~C57deAgwoGQ7-DeiCqC01s.H~RYI8GBYET4Zl5xniSMM3Y61.pB1sxLCsq3~41Ptr1T1ypB_zhjIJBiknFQmUiKTyQiK&amp;t=bv&amp;referer=https%3A%2F%2Fallegro.pl%2Fkategoria%2Flaptopy-apple-77915%3Fstring%3Dbargain_zone&amp;s=29560&amp;e=8eaa1ab1464dae06f4f02cb7eebfb55e725789573a557977831bb8e42156e1d0\" style=\"height:100vh;\" width=\"100%\"></iframe>\n",
       "</body></html>"
      ]
     },
     "execution_count": 85,
     "metadata": {},
     "output_type": "execute_result"
    }
   ],
   "source": [
    "soup = BeautifulSoup(htmlSource, \"html.parser\")\n",
    "soup"
   ]
  },
  {
   "cell_type": "code",
   "execution_count": null,
   "id": "4d83b1e0-228e-41e3-82be-ef801170e378",
   "metadata": {},
   "outputs": [],
   "source": []
  }
 ],
 "metadata": {
  "kernelspec": {
   "display_name": "Python 3 (ipykernel)",
   "language": "python",
   "name": "python3"
  },
  "language_info": {
   "codemirror_mode": {
    "name": "ipython",
    "version": 3
   },
   "file_extension": ".py",
   "mimetype": "text/x-python",
   "name": "python",
   "nbconvert_exporter": "python",
   "pygments_lexer": "ipython3",
   "version": "3.10.5"
  }
 },
 "nbformat": 4,
 "nbformat_minor": 5
}
